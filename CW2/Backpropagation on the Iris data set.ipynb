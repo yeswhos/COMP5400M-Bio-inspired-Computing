{
  "nbformat": 4,
  "nbformat_minor": 0,
  "metadata": {
    "kernelspec": {
      "display_name": "Python 3",
      "language": "python",
      "name": "python3"
    },
    "colab": {
      "name": "Backpropagation on the Iris data set.ipynb",
      "provenance": [],
      "include_colab_link": true
    }
  },
  "cells": [
    {
      "cell_type": "markdown",
      "metadata": {
        "id": "view-in-github",
        "colab_type": "text"
      },
      "source": [
        "<a href=\"https://colab.research.google.com/github/yeswhos/COMP5400M-Bio-inspired-Computing/blob/master/CW2/Backpropagation%20on%20the%20Iris%20data%20set.ipynb\" target=\"_parent\"><img src=\"https://colab.research.google.com/assets/colab-badge.svg\" alt=\"Open In Colab\"/></a>"
      ]
    },
    {
      "cell_type": "markdown",
      "metadata": {
        "id": "EbQztCaXT1i1",
        "colab_type": "text"
      },
      "source": [
        "<a rel=\"license\" href=\"http://creativecommons.org/licenses/by/4.0/\"><img alt=\"Creative Commons Licence\" style=\"border-width:0\" src=\"https://i.creativecommons.org/l/by/4.0/88x31.png\" /></a><br /><span xmlns:dct=\"http://purl.org/dc/terms/\" property=\"dct:title\">COMP5400 - Tensorflow Demo</span> by <span xmlns:cc=\"http://creativecommons.org/ns#\" property=\"cc:attributionName\">Marc de Kamps, University of Leeds</span> is licensed under a <a rel=\"license\" href=\"http://creativecommons.org/licenses/by/4.0/\">Creative Commons Attribution 4.0 International License</a>."
      ]
    },
    {
      "cell_type": "markdown",
      "metadata": {
        "id": "3j6YIxblT1i2",
        "colab_type": "text"
      },
      "source": [
        "This notebook demonstrates the use of keras. We will first use it to create a multi-layer perceptron that can classify the iris data set."
      ]
    },
    {
      "cell_type": "code",
      "metadata": {
        "id": "UVPYDVOeT1i2",
        "colab_type": "code",
        "colab": {}
      },
      "source": [
        "# first check if all the prerequisites are there.\n",
        "import tensorflow as tf\n",
        "from tensorflow.keras import layers\n"
      ],
      "execution_count": 0,
      "outputs": []
    },
    {
      "cell_type": "markdown",
      "metadata": {
        "id": "xKKuJqRDT1i6",
        "colab_type": "text"
      },
      "source": [
        "If the previous cells came through, then all the important stuff has been installed on your machine. Now let's process the iris data set and create a 1-of-3 coding."
      ]
    },
    {
      "cell_type": "markdown",
      "metadata": {
        "id": "pOaCLmssVOGy",
        "colab_type": "text"
      },
      "source": [
        "Load data file from google drive"
      ]
    },
    {
      "cell_type": "code",
      "metadata": {
        "id": "9n-EZkkhUthI",
        "colab_type": "code",
        "outputId": "7f5f2c41-dd20-4d23-8e7e-7df618cb3e0c",
        "colab": {
          "base_uri": "https://localhost:8080/",
          "height": 122
        }
      },
      "source": [
        "from google.colab import drive\n",
        "drive.mount('/content/drive')\n",
        "filepath = \"drive/My Drive/Bio/iris.data\""
      ],
      "execution_count": 2,
      "outputs": [
        {
          "output_type": "stream",
          "text": [
            "Go to this URL in a browser: https://accounts.google.com/o/oauth2/auth?client_id=947318989803-6bn6qk8qdgf4n4g3pfee6491hc0brc4i.apps.googleusercontent.com&redirect_uri=urn%3aietf%3awg%3aoauth%3a2.0%3aoob&response_type=code&scope=email%20https%3a%2f%2fwww.googleapis.com%2fauth%2fdocs.test%20https%3a%2f%2fwww.googleapis.com%2fauth%2fdrive%20https%3a%2f%2fwww.googleapis.com%2fauth%2fdrive.photos.readonly%20https%3a%2f%2fwww.googleapis.com%2fauth%2fpeopleapi.readonly\n",
            "\n",
            "Enter your authorization code:\n",
            "··········\n",
            "Mounted at /content/drive\n"
          ],
          "name": "stdout"
        }
      ]
    },
    {
      "cell_type": "code",
      "metadata": {
        "scrolled": true,
        "id": "QV3rb9BET1i6",
        "colab_type": "code",
        "outputId": "3a11ed4f-adb9-40cb-fcb7-36b451b4a87e",
        "colab": {
          "base_uri": "https://localhost:8080/",
          "height": 34
        }
      },
      "source": [
        "inputs  = []\n",
        "outputs = []\n",
        "iris = []\n",
        "\n",
        "d = {}\n",
        "d['Iris-setosa\\n']     = [1., 0., 0.]\n",
        "d['Iris-versicolor\\n'] = [0., 1., 0.]\n",
        "d['Iris-virginica\\n']  = [0., 0., 1.]\n",
        "\n",
        "# with open('iris.data') as f:\n",
        "with open(filepath) as f:\n",
        "    lines=f.readlines()\n",
        "    for line in lines:\n",
        "        items=line.split(',')\n",
        "        iris.append(items)\n",
        "        if len(items) == 5:\n",
        "            inp =  [float(x) for x in items[0:4] ]\n",
        "            inputs.append(inp)\n",
        "            out = d[items[4]]\n",
        "            outputs.append(out)\n",
        "            \n",
        "print( len(inputs), 'input patterns', len(outputs), 'output patterns')"
      ],
      "execution_count": 3,
      "outputs": [
        {
          "output_type": "stream",
          "text": [
            "150 input patterns 150 output patterns\n"
          ],
          "name": "stdout"
        }
      ]
    },
    {
      "cell_type": "code",
      "metadata": {
        "id": "kX2Av7IOYW9I",
        "colab_type": "code",
        "outputId": "da27aa3a-826b-4da0-f719-48cc6083def1",
        "colab": {
          "base_uri": "https://localhost:8080/",
          "height": 54
        }
      },
      "source": [
        "print(iris)"
      ],
      "execution_count": 4,
      "outputs": [
        {
          "output_type": "stream",
          "text": [
            "[['5.1', '3.5', '1.4', '0.2', 'Iris-setosa\\n'], ['4.9', '3.0', '1.4', '0.2', 'Iris-setosa\\n'], ['4.7', '3.2', '1.3', '0.2', 'Iris-setosa\\n'], ['4.6', '3.1', '1.5', '0.2', 'Iris-setosa\\n'], ['5.0', '3.6', '1.4', '0.2', 'Iris-setosa\\n'], ['5.4', '3.9', '1.7', '0.4', 'Iris-setosa\\n'], ['4.6', '3.4', '1.4', '0.3', 'Iris-setosa\\n'], ['5.0', '3.4', '1.5', '0.2', 'Iris-setosa\\n'], ['4.4', '2.9', '1.4', '0.2', 'Iris-setosa\\n'], ['4.9', '3.1', '1.5', '0.1', 'Iris-setosa\\n'], ['5.4', '3.7', '1.5', '0.2', 'Iris-setosa\\n'], ['4.8', '3.4', '1.6', '0.2', 'Iris-setosa\\n'], ['4.8', '3.0', '1.4', '0.1', 'Iris-setosa\\n'], ['4.3', '3.0', '1.1', '0.1', 'Iris-setosa\\n'], ['5.8', '4.0', '1.2', '0.2', 'Iris-setosa\\n'], ['5.7', '4.4', '1.5', '0.4', 'Iris-setosa\\n'], ['5.4', '3.9', '1.3', '0.4', 'Iris-setosa\\n'], ['5.1', '3.5', '1.4', '0.3', 'Iris-setosa\\n'], ['5.7', '3.8', '1.7', '0.3', 'Iris-setosa\\n'], ['5.1', '3.8', '1.5', '0.3', 'Iris-setosa\\n'], ['5.4', '3.4', '1.7', '0.2', 'Iris-setosa\\n'], ['5.1', '3.7', '1.5', '0.4', 'Iris-setosa\\n'], ['4.6', '3.6', '1.0', '0.2', 'Iris-setosa\\n'], ['5.1', '3.3', '1.7', '0.5', 'Iris-setosa\\n'], ['4.8', '3.4', '1.9', '0.2', 'Iris-setosa\\n'], ['5.0', '3.0', '1.6', '0.2', 'Iris-setosa\\n'], ['5.0', '3.4', '1.6', '0.4', 'Iris-setosa\\n'], ['5.2', '3.5', '1.5', '0.2', 'Iris-setosa\\n'], ['5.2', '3.4', '1.4', '0.2', 'Iris-setosa\\n'], ['4.7', '3.2', '1.6', '0.2', 'Iris-setosa\\n'], ['4.8', '3.1', '1.6', '0.2', 'Iris-setosa\\n'], ['5.4', '3.4', '1.5', '0.4', 'Iris-setosa\\n'], ['5.2', '4.1', '1.5', '0.1', 'Iris-setosa\\n'], ['5.5', '4.2', '1.4', '0.2', 'Iris-setosa\\n'], ['4.9', '3.1', '1.5', '0.1', 'Iris-setosa\\n'], ['5.0', '3.2', '1.2', '0.2', 'Iris-setosa\\n'], ['5.5', '3.5', '1.3', '0.2', 'Iris-setosa\\n'], ['4.9', '3.1', '1.5', '0.1', 'Iris-setosa\\n'], ['4.4', '3.0', '1.3', '0.2', 'Iris-setosa\\n'], ['5.1', '3.4', '1.5', '0.2', 'Iris-setosa\\n'], ['5.0', '3.5', '1.3', '0.3', 'Iris-setosa\\n'], ['4.5', '2.3', '1.3', '0.3', 'Iris-setosa\\n'], ['4.4', '3.2', '1.3', '0.2', 'Iris-setosa\\n'], ['5.0', '3.5', '1.6', '0.6', 'Iris-setosa\\n'], ['5.1', '3.8', '1.9', '0.4', 'Iris-setosa\\n'], ['4.8', '3.0', '1.4', '0.3', 'Iris-setosa\\n'], ['5.1', '3.8', '1.6', '0.2', 'Iris-setosa\\n'], ['4.6', '3.2', '1.4', '0.2', 'Iris-setosa\\n'], ['5.3', '3.7', '1.5', '0.2', 'Iris-setosa\\n'], ['5.0', '3.3', '1.4', '0.2', 'Iris-setosa\\n'], ['7.0', '3.2', '4.7', '1.4', 'Iris-versicolor\\n'], ['6.4', '3.2', '4.5', '1.5', 'Iris-versicolor\\n'], ['6.9', '3.1', '4.9', '1.5', 'Iris-versicolor\\n'], ['5.5', '2.3', '4.0', '1.3', 'Iris-versicolor\\n'], ['6.5', '2.8', '4.6', '1.5', 'Iris-versicolor\\n'], ['5.7', '2.8', '4.5', '1.3', 'Iris-versicolor\\n'], ['6.3', '3.3', '4.7', '1.6', 'Iris-versicolor\\n'], ['4.9', '2.4', '3.3', '1.0', 'Iris-versicolor\\n'], ['6.6', '2.9', '4.6', '1.3', 'Iris-versicolor\\n'], ['5.2', '2.7', '3.9', '1.4', 'Iris-versicolor\\n'], ['5.0', '2.0', '3.5', '1.0', 'Iris-versicolor\\n'], ['5.9', '3.0', '4.2', '1.5', 'Iris-versicolor\\n'], ['6.0', '2.2', '4.0', '1.0', 'Iris-versicolor\\n'], ['6.1', '2.9', '4.7', '1.4', 'Iris-versicolor\\n'], ['5.6', '2.9', '3.6', '1.3', 'Iris-versicolor\\n'], ['6.7', '3.1', '4.4', '1.4', 'Iris-versicolor\\n'], ['5.6', '3.0', '4.5', '1.5', 'Iris-versicolor\\n'], ['5.8', '2.7', '4.1', '1.0', 'Iris-versicolor\\n'], ['6.2', '2.2', '4.5', '1.5', 'Iris-versicolor\\n'], ['5.6', '2.5', '3.9', '1.1', 'Iris-versicolor\\n'], ['5.9', '3.2', '4.8', '1.8', 'Iris-versicolor\\n'], ['6.1', '2.8', '4.0', '1.3', 'Iris-versicolor\\n'], ['6.3', '2.5', '4.9', '1.5', 'Iris-versicolor\\n'], ['6.1', '2.8', '4.7', '1.2', 'Iris-versicolor\\n'], ['6.4', '2.9', '4.3', '1.3', 'Iris-versicolor\\n'], ['6.6', '3.0', '4.4', '1.4', 'Iris-versicolor\\n'], ['6.8', '2.8', '4.8', '1.4', 'Iris-versicolor\\n'], ['6.7', '3.0', '5.0', '1.7', 'Iris-versicolor\\n'], ['6.0', '2.9', '4.5', '1.5', 'Iris-versicolor\\n'], ['5.7', '2.6', '3.5', '1.0', 'Iris-versicolor\\n'], ['5.5', '2.4', '3.8', '1.1', 'Iris-versicolor\\n'], ['5.5', '2.4', '3.7', '1.0', 'Iris-versicolor\\n'], ['5.8', '2.7', '3.9', '1.2', 'Iris-versicolor\\n'], ['6.0', '2.7', '5.1', '1.6', 'Iris-versicolor\\n'], ['5.4', '3.0', '4.5', '1.5', 'Iris-versicolor\\n'], ['6.0', '3.4', '4.5', '1.6', 'Iris-versicolor\\n'], ['6.7', '3.1', '4.7', '1.5', 'Iris-versicolor\\n'], ['6.3', '2.3', '4.4', '1.3', 'Iris-versicolor\\n'], ['5.6', '3.0', '4.1', '1.3', 'Iris-versicolor\\n'], ['5.5', '2.5', '4.0', '1.3', 'Iris-versicolor\\n'], ['5.5', '2.6', '4.4', '1.2', 'Iris-versicolor\\n'], ['6.1', '3.0', '4.6', '1.4', 'Iris-versicolor\\n'], ['5.8', '2.6', '4.0', '1.2', 'Iris-versicolor\\n'], ['5.0', '2.3', '3.3', '1.0', 'Iris-versicolor\\n'], ['5.6', '2.7', '4.2', '1.3', 'Iris-versicolor\\n'], ['5.7', '3.0', '4.2', '1.2', 'Iris-versicolor\\n'], ['5.7', '2.9', '4.2', '1.3', 'Iris-versicolor\\n'], ['6.2', '2.9', '4.3', '1.3', 'Iris-versicolor\\n'], ['5.1', '2.5', '3.0', '1.1', 'Iris-versicolor\\n'], ['5.7', '2.8', '4.1', '1.3', 'Iris-versicolor\\n'], ['6.3', '3.3', '6.0', '2.5', 'Iris-virginica\\n'], ['5.8', '2.7', '5.1', '1.9', 'Iris-virginica\\n'], ['7.1', '3.0', '5.9', '2.1', 'Iris-virginica\\n'], ['6.3', '2.9', '5.6', '1.8', 'Iris-virginica\\n'], ['6.5', '3.0', '5.8', '2.2', 'Iris-virginica\\n'], ['7.6', '3.0', '6.6', '2.1', 'Iris-virginica\\n'], ['4.9', '2.5', '4.5', '1.7', 'Iris-virginica\\n'], ['7.3', '2.9', '6.3', '1.8', 'Iris-virginica\\n'], ['6.7', '2.5', '5.8', '1.8', 'Iris-virginica\\n'], ['7.2', '3.6', '6.1', '2.5', 'Iris-virginica\\n'], ['6.5', '3.2', '5.1', '2.0', 'Iris-virginica\\n'], ['6.4', '2.7', '5.3', '1.9', 'Iris-virginica\\n'], ['6.8', '3.0', '5.5', '2.1', 'Iris-virginica\\n'], ['5.7', '2.5', '5.0', '2.0', 'Iris-virginica\\n'], ['5.8', '2.8', '5.1', '2.4', 'Iris-virginica\\n'], ['6.4', '3.2', '5.3', '2.3', 'Iris-virginica\\n'], ['6.5', '3.0', '5.5', '1.8', 'Iris-virginica\\n'], ['7.7', '3.8', '6.7', '2.2', 'Iris-virginica\\n'], ['7.7', '2.6', '6.9', '2.3', 'Iris-virginica\\n'], ['6.0', '2.2', '5.0', '1.5', 'Iris-virginica\\n'], ['6.9', '3.2', '5.7', '2.3', 'Iris-virginica\\n'], ['5.6', '2.8', '4.9', '2.0', 'Iris-virginica\\n'], ['7.7', '2.8', '6.7', '2.0', 'Iris-virginica\\n'], ['6.3', '2.7', '4.9', '1.8', 'Iris-virginica\\n'], ['6.7', '3.3', '5.7', '2.1', 'Iris-virginica\\n'], ['7.2', '3.2', '6.0', '1.8', 'Iris-virginica\\n'], ['6.2', '2.8', '4.8', '1.8', 'Iris-virginica\\n'], ['6.1', '3.0', '4.9', '1.8', 'Iris-virginica\\n'], ['6.4', '2.8', '5.6', '2.1', 'Iris-virginica\\n'], ['7.2', '3.0', '5.8', '1.6', 'Iris-virginica\\n'], ['7.4', '2.8', '6.1', '1.9', 'Iris-virginica\\n'], ['7.9', '3.8', '6.4', '2.0', 'Iris-virginica\\n'], ['6.4', '2.8', '5.6', '2.2', 'Iris-virginica\\n'], ['6.3', '2.8', '5.1', '1.5', 'Iris-virginica\\n'], ['6.1', '2.6', '5.6', '1.4', 'Iris-virginica\\n'], ['7.7', '3.0', '6.1', '2.3', 'Iris-virginica\\n'], ['6.3', '3.4', '5.6', '2.4', 'Iris-virginica\\n'], ['6.4', '3.1', '5.5', '1.8', 'Iris-virginica\\n'], ['6.0', '3.0', '4.8', '1.8', 'Iris-virginica\\n'], ['6.9', '3.1', '5.4', '2.1', 'Iris-virginica\\n'], ['6.7', '3.1', '5.6', '2.4', 'Iris-virginica\\n'], ['6.9', '3.1', '5.1', '2.3', 'Iris-virginica\\n'], ['5.8', '2.7', '5.1', '1.9', 'Iris-virginica\\n'], ['6.8', '3.2', '5.9', '2.3', 'Iris-virginica\\n'], ['6.7', '3.3', '5.7', '2.5', 'Iris-virginica\\n'], ['6.7', '3.0', '5.2', '2.3', 'Iris-virginica\\n'], ['6.3', '2.5', '5.0', '1.9', 'Iris-virginica\\n'], ['6.5', '3.0', '5.2', '2.0', 'Iris-virginica\\n'], ['6.2', '3.4', '5.4', '2.3', 'Iris-virginica\\n'], ['5.9', '3.0', '5.1', '1.8', 'Iris-virginica\\n'], ['\\n']]\n"
          ],
          "name": "stdout"
        }
      ]
    },
    {
      "cell_type": "code",
      "metadata": {
        "id": "UgE80GzwFS_h",
        "colab_type": "code",
        "colab": {}
      },
      "source": [
        ""
      ],
      "execution_count": 0,
      "outputs": []
    },
    {
      "cell_type": "code",
      "metadata": {
        "id": "1hzseelEYpIy",
        "colab_type": "code",
        "colab": {}
      },
      "source": [
        "import numpy as np\n",
        "total = np.array(inputs)\n",
        "# print(total)\n",
        "set_sepal_len = total[:50:,0]\n",
        "set_sepal_wid = total[:50:,1]\n",
        "set_petal_len = total[:50:,2]\n",
        "set_petal_wid = total[:50:,3]\n",
        "\n",
        "versi_sepal_len = total[50:100:,0]\n",
        "versi_sepal_wid = total[50:100:,1]\n",
        "versi_petal_len = total[50:100:,2]\n",
        "versi_petal_wid = total[50:100:,3]\n",
        "\n",
        "virgin_sepal_len = total[100:150:,0]\n",
        "virgin_sepal_wid = total[100:150:,1]\n",
        "virgin_petal_len = total[100:150:,2]\n",
        "virgin_petal_wid = total[100:150:,3]\n",
        "\n"
      ],
      "execution_count": 0,
      "outputs": []
    },
    {
      "cell_type": "code",
      "metadata": {
        "id": "ybGPQjDqczD2",
        "colab_type": "code",
        "outputId": "a3c1c0a1-843b-4916-9583-aee7a275cc32",
        "colab": {
          "base_uri": "https://localhost:8080/",
          "height": 641
        }
      },
      "source": [
        "from pylab import *\n",
        "import matplotlib.pyplot as plt\n",
        "\n",
        "plt.figure(figsize=(16, 16))\n",
        "plt.subplot(3, 3, 1)\n",
        "plt.title(\"Sepal width & length\")\n",
        "plt.xlabel(\"sepal width\")\n",
        "plt.ylabel(\"sepal length\")\n",
        "p1 = plt.scatter(versi_sepal_wid, versi_sepal_len, c = 'g', marker = \"o\")\n",
        "p2 = plt.scatter(virgin_sepal_wid, virgin_sepal_len, c = 'b', marker = \"o\")\n",
        "p3 = plt.scatter(set_sepal_wid, set_sepal_len, c = 'r', marker = \"o\")\n",
        "plt.tick_params(axis='both', which = 'major', labelsize=10)\n",
        "plt.legend([p1, p2, p3], ['versicolor', 'virginica', 'setosa'], loc = 'lower right', prop = {'size':8})\n",
        "\n",
        "plt.subplot(3, 3, 2)\n",
        "plt.title(\"Petal width & length\")\n",
        "plt.xlabel(\"petal width\")\n",
        "plt.ylabel(\"petal length\")\n",
        "p4 = plt.scatter(versi_petal_wid, versi_petal_len, c = 'g', marker = \"o\")\n",
        "p5 = plt.scatter(virgin_petal_wid, virgin_petal_len, c = 'b', marker = \"o\")\n",
        "p6 = plt.scatter(set_petal_wid, set_petal_len, c = 'r', marker = \"o\")\n",
        "plt.tick_params(axis='both', which = 'major', labelsize=10)\n",
        "plt.legend([p1, p2, p3], ['versicolor', 'virginica', 'setosa'], loc = 'lower right', prop = {'size':8})\n",
        "#plt.legend([p4, p5, p6], ['versicolor', 'virginica', 'setosa'], loc = 'lower right')\n",
        "\n",
        "plt.subplot(3, 3, 3)\n",
        "plt.title(\"Petal length & sepal length\")\n",
        "plt.xlabel(\"petal length\")\n",
        "plt.ylabel(\"sepal length\")\n",
        "p7 = plt.scatter(versi_petal_len, versi_sepal_len, c = 'g', marker = \"o\")\n",
        "p8 = plt.scatter(virgin_petal_len, virgin_sepal_len, c = 'b', marker = \"o\")\n",
        "p9 = plt.scatter(set_petal_len, set_sepal_len, c = 'r', marker = \"o\")\n",
        "plt.tick_params(axis='both', which = 'major', labelsize=10)\n",
        "plt.legend([p1, p2, p3], ['versicolor', 'virginica', 'setosa'], loc = 'lower right', prop = {'size':8})\n",
        "\n",
        "plt.subplot(3, 3, 4)\n",
        "plt.title(\"Petal length & sepal width\")\n",
        "plt.xlabel(\"petal length\")\n",
        "plt.ylabel(\"sepal width\")\n",
        "p7 = plt.scatter(versi_petal_len, versi_sepal_wid, c = 'g', marker = \"o\")\n",
        "p8 = plt.scatter(virgin_petal_len, virgin_sepal_wid, c = 'b', marker = \"o\")\n",
        "p9 = plt.scatter(set_petal_len, set_sepal_wid, c = 'r', marker = \"o\")\n",
        "plt.tick_params(axis='both', which = 'major', labelsize=10)\n",
        "plt.legend([p1, p2, p3], ['versicolor', 'virginica', 'setosa'], loc = 'lower right', prop = {'size':8})\n",
        "\n",
        "plt.subplot(3, 3, 5)\n",
        "plt.title(\"Petal width & sepal length\")\n",
        "plt.xlabel(\"petal width\")\n",
        "plt.ylabel(\"sepal length\")\n",
        "p7 = plt.scatter(versi_petal_wid, versi_sepal_len, c = 'g', marker = \"o\")\n",
        "p8 = plt.scatter(virgin_petal_wid, virgin_sepal_len, c = 'b', marker = \"o\")\n",
        "p9 = plt.scatter(set_petal_wid, set_sepal_len, c = 'r', marker = \"o\")\n",
        "plt.tick_params(axis='both', which = 'major', labelsize=10)\n",
        "plt.legend([p1, p2, p3], ['versicolor', 'virginica', 'setosa'], loc = 'lower right', prop = {'size':8})\n",
        "\n",
        "plt.subplot(3, 3, 6)\n",
        "plt.title(\"Petal width & sepal width\")\n",
        "plt.xlabel(\"petal width\")\n",
        "plt.ylabel(\"sepal width\")\n",
        "p7 = plt.scatter(versi_petal_wid, versi_sepal_wid, c = 'g', marker = \"o\")\n",
        "p8 = plt.scatter(virgin_petal_wid, virgin_sepal_wid, c = 'b', marker = \"o\")\n",
        "p9 = plt.scatter(set_petal_wid, set_sepal_wid, c = 'r', marker = \"o\")\n",
        "plt.tick_params(axis='both', which = 'major', labelsize=10)\n",
        "plt.legend([p1, p2, p3], ['versicolor', 'virginica', 'setosa'], loc = 'lower right', prop = {'size':8})\n",
        "plt.show()"
      ],
      "execution_count": 6,
      "outputs": [
        {
          "output_type": "display_data",
          "data": {
            "image/png": "[encoded data removed]",
            "text/plain": [
              "<Figure size 1152x1152 with 6 Axes>"
            ]
          },
          "metadata": {
            "tags": [],
            "needs_background": "light"
          }
        }
      ]
    },
    {
      "cell_type": "code",
      "metadata": {
        "id": "S1H2Os1a1uRA",
        "colab_type": "code",
        "outputId": "76f94fa6-ef2a-4b75-f008-bcdca80945f5",
        "colab": {
          "base_uri": "https://localhost:8080/",
          "height": 404
        }
      },
      "source": [
        "plt.figure(figsize=(6, 6))\n",
        "plt.title(\"Petal length & width\")\n",
        "plt.xlabel(\"petal width\")\n",
        "plt.ylabel(\"petal length\")\n",
        "p1 = plt.scatter(versi_petal_wid, versi_petal_len, c = 'g', marker = \"o\")\n",
        "p2 = plt.scatter(virgin_petal_wid, virgin_petal_len, c = 'g', marker = \"o\")\n",
        "p3 = plt.scatter(set_petal_wid, set_petal_len, c = 'r', marker = \"o\")\n",
        "plt.tick_params(axis='both', which = 'major', labelsize=10)\n",
        "plt.legend([p2, p3], ['non-setosa', 'setosa'], loc = 'lower right')\n",
        "x = [0, 3.5]\n",
        "y = [1.25, 0]\n",
        "plt.plot(y, x, 'r')\n",
        "plt.show()"
      ],
      "execution_count": 7,
      "outputs": [
        {
          "output_type": "display_data",
          "data": {
            "image/png": "[encoded data removed]",
            "text/plain": [
              "<Figure size 432x432 with 1 Axes>"
            ]
          },
          "metadata": {
            "tags": [],
            "needs_background": "light"
          }
        }
      ]
    },
    {
      "cell_type": "code",
      "metadata": {
        "id": "Q1sBKV86W4S0",
        "colab_type": "code",
        "outputId": "c9a152eb-7807-4905-c449-67a30f9f5850",
        "colab": {
          "base_uri": "https://localhost:8080/",
          "height": 197
        }
      },
      "source": [
        "import pandas as pd\n",
        "from sklearn.datasets import load_iris\n",
        "\n",
        "iris = load_iris()\n",
        "\n",
        "df = pd.DataFrame(iris.data, columns=iris.feature_names)    # iris.data包含一个(150, 4)的数据，设置列名为iris.feature_names\n",
        "df['label'] = iris.target    # iris.target为类别标签(150, 1)\n",
        "df.head()\n"
      ],
      "execution_count": 8,
      "outputs": [
        {
          "output_type": "execute_result",
          "data": {
            "text/html": [
              "<div>\n",
              "<style scoped>\n",
              "    .dataframe tbody tr th:only-of-type {\n",
              "        vertical-align: middle;\n",
              "    }\n",
              "\n",
              "    .dataframe tbody tr th {\n",
              "        vertical-align: top;\n",
              "    }\n",
              "\n",
              "    .dataframe thead th {\n",
              "        text-align: right;\n",
              "    }\n",
              "</style>\n",
              "<table border=\"1\" class=\"dataframe\">\n",
              "  <thead>\n",
              "    <tr style=\"text-align: right;\">\n",
              "      <th></th>\n",
              "      <th>sepal length (cm)</th>\n",
              "      <th>sepal width (cm)</th>\n",
              "      <th>petal length (cm)</th>\n",
              "      <th>petal width (cm)</th>\n",
              "      <th>label</th>\n",
              "    </tr>\n",
              "  </thead>\n",
              "  <tbody>\n",
              "    <tr>\n",
              "      <th>0</th>\n",
              "      <td>5.1</td>\n",
              "      <td>3.5</td>\n",
              "      <td>1.4</td>\n",
              "      <td>0.2</td>\n",
              "      <td>0</td>\n",
              "    </tr>\n",
              "    <tr>\n",
              "      <th>1</th>\n",
              "      <td>4.9</td>\n",
              "      <td>3.0</td>\n",
              "      <td>1.4</td>\n",
              "      <td>0.2</td>\n",
              "      <td>0</td>\n",
              "    </tr>\n",
              "    <tr>\n",
              "      <th>2</th>\n",
              "      <td>4.7</td>\n",
              "      <td>3.2</td>\n",
              "      <td>1.3</td>\n",
              "      <td>0.2</td>\n",
              "      <td>0</td>\n",
              "    </tr>\n",
              "    <tr>\n",
              "      <th>3</th>\n",
              "      <td>4.6</td>\n",
              "      <td>3.1</td>\n",
              "      <td>1.5</td>\n",
              "      <td>0.2</td>\n",
              "      <td>0</td>\n",
              "    </tr>\n",
              "    <tr>\n",
              "      <th>4</th>\n",
              "      <td>5.0</td>\n",
              "      <td>3.6</td>\n",
              "      <td>1.4</td>\n",
              "      <td>0.2</td>\n",
              "      <td>0</td>\n",
              "    </tr>\n",
              "  </tbody>\n",
              "</table>\n",
              "</div>"
            ],
            "text/plain": [
              "   sepal length (cm)  sepal width (cm)  ...  petal width (cm)  label\n",
              "0                5.1               3.5  ...               0.2      0\n",
              "1                4.9               3.0  ...               0.2      0\n",
              "2                4.7               3.2  ...               0.2      0\n",
              "3                4.6               3.1  ...               0.2      0\n",
              "4                5.0               3.6  ...               0.2      0\n",
              "\n",
              "[5 rows x 5 columns]"
            ]
          },
          "metadata": {
            "tags": []
          },
          "execution_count": 8
        }
      ]
    },
    {
      "cell_type": "code",
      "metadata": {
        "id": "o0hp7zU5WPOR",
        "colab_type": "code",
        "colab": {}
      },
      "source": [
        "data = np.array(df.iloc[:100, [2, 3, -1]])\n",
        "X_setoa, y_setoa = data[:,:-1], data[:,-1]"
      ],
      "execution_count": 0,
      "outputs": []
    },
    {
      "cell_type": "code",
      "metadata": {
        "id": "S9FbOKAlju5b",
        "colab_type": "code",
        "colab": {}
      },
      "source": [
        "data_1 = np.array(df.iloc[50:150, [2, 3, -1]])\n",
        "X_virginica, y_virginica = data_1[:,:-1], data_1[:,-1]"
      ],
      "execution_count": 0,
      "outputs": []
    },
    {
      "cell_type": "code",
      "metadata": {
        "id": "0fCS5jjzGPHo",
        "colab_type": "code",
        "colab": {}
      },
      "source": [
        "data_total = np.array(df.iloc[:, [2, 3, -1]])"
      ],
      "execution_count": 0,
      "outputs": []
    },
    {
      "cell_type": "code",
      "metadata": {
        "id": "OVIBMPT2jwKF",
        "colab_type": "code",
        "colab": {
          "base_uri": "https://localhost:8080/",
          "height": 34
        },
        "outputId": "d9ec1654-960d-409e-a5f5-c105c930cbc6"
      },
      "source": [
        "print(len(y_virginica))"
      ],
      "execution_count": 77,
      "outputs": [
        {
          "output_type": "stream",
          "text": [
            "100\n"
          ],
          "name": "stdout"
        }
      ]
    },
    {
      "cell_type": "code",
      "metadata": {
        "id": "oRPtolZXTmLh",
        "colab_type": "code",
        "colab": {}
      },
      "source": [
        "#from goto import with_goto\n",
        "# import tensorflow.compat.v1 as tf\n",
        "# tf.compat.v1.disable_eager_execution() \n",
        "import tensorflow as tf\n",
        "class Perceptron(object):\n",
        "    def __init__(self, input_feature_num, activation=None):\n",
        "        self.activation = activation if activation else self.sign\n",
        "        self.w = [0.0] * input_feature_num\n",
        "        #self.b = -200000.0\n",
        "        self.b = 0.0\n",
        "\n",
        "    def sign(self, z):\n",
        "        # 阶跃激活函数:\n",
        "        # sign(z) = 1 if z > 0 \n",
        "        # sign(z) = 0 otherwise\n",
        "        return int(z>0)\n",
        "    def predict(self, x):\n",
        "        # 预测输出函数\n",
        "        # y_hat = f(wx + b)\n",
        "        return self.activation(\n",
        "            np.dot(self.w, x) + self.b)\n",
        "    \n",
        "    def fit(self, x_train, y_train, iteration=10, learning_rate=0.1):\n",
        "        # 训练函数\n",
        "        for _ in range(iteration):\n",
        "            # counter = 0\n",
        "            for x, y in zip(x_train, y_train):\n",
        "                y_hat = self.predict(x)\n",
        "                # print(y)\n",
        "                # print(y_hat)\n",
        "                # loss = tf.Variable((y - y_hat) ** 2, name = 'loss')\n",
        "                # init = tf.global_variables_initializer()\n",
        "                # with tf.Session() as session:\n",
        "                #   session.run(init)\n",
        "                #   print(\"loss\", session.run(loss))\n",
        "                # if(a == 0.0):\n",
        "                #   counter += 1  \n",
        "                self._update_weights(x, y, y_hat, learning_rate)\n",
        "                #count += 1\n",
        "            # if(counter > 90):\n",
        "            #     # print(count)\n",
        "            #     # print(counter)\n",
        "            #     print(self.__str__())\n",
        "            #     return\n",
        "        print(self)\n",
        "    # def _loss_function(n_x, n_y):\n",
        "    #     loss = tf.Variable((n_x - n_y) ** 2, name = 'loss')\n",
        "    #     init = tf.global_variables_initializer()\n",
        "    #     with tf.Session() as session:\n",
        "    #       session.run(init)\n",
        "    #       # print(session.run(loss))\n",
        "    #       return session.run(loss)\n",
        "\n",
        "    \n",
        "    def _update_weights(self, x, y, y_hat, learning_rate):\n",
        "        # 权重更新, 对照公式查看\n",
        "        delta = y - y_hat\n",
        "        self.w = np.add(self.w,np.multiply(learning_rate * delta, x))\n",
        "        self.b += learning_rate * delta\n",
        "    \n",
        "    def __str__(self):\n",
        "        return 'weights: {}\\tbias: {}'.format(self.w, self.b)"
      ],
      "execution_count": 0,
      "outputs": []
    },
    {
      "cell_type": "code",
      "metadata": {
        "id": "7kB4OvnLeONE",
        "colab_type": "code",
        "outputId": "2a06ef67-c950-4ac7-a01b-6f0a8ce61a14",
        "colab": {
          "base_uri": "https://localhost:8080/",
          "height": 34
        }
      },
      "source": [
        "perceptron_setoa = Perceptron(input_feature_num=X_setoa.shape[1])\n",
        "perceptron_setoa.fit(X_setoa, y_setoa, iteration=100, learning_rate=0.1)"
      ],
      "execution_count": 133,
      "outputs": [
        {
          "output_type": "stream",
          "text": [
            "weights: [0.06 0.08]\tbias: -0.2\n"
          ],
          "name": "stdout"
        }
      ]
    },
    {
      "cell_type": "code",
      "metadata": {
        "id": "c10JTTJTtNKU",
        "colab_type": "code",
        "colab": {
          "base_uri": "https://localhost:8080/",
          "height": 34
        },
        "outputId": "533997b6-7769-4a37-d1f1-f806a2a318b9"
      },
      "source": [
        "perceptron_virginica = Perceptron(input_feature_num=X_virginica.shape[1])\n",
        "perceptron_virginica.fit(X_virginica, y_virginica, iteration=1000, learning_rate=0.1)"
      ],
      "execution_count": 119,
      "outputs": [
        {
          "output_type": "stream",
          "text": [
            "weights: [52478.2        18440.13999999]\tbias: -189729.29999940217\n"
          ],
          "name": "stdout"
        }
      ]
    },
    {
      "cell_type": "code",
      "metadata": {
        "id": "Xf3mJtznw6x5",
        "colab_type": "code",
        "outputId": "3169fd4d-36e2-476e-8900-691faebca3a2",
        "colab": {
          "base_uri": "https://localhost:8080/",
          "height": 296
        }
      },
      "source": [
        "x_points = np.linspace(0, 2)\n",
        "y_ = -(perceptron_setoa.w[0]*x_points + perceptron_setoa.b)/perceptron_setoa.w[1]\n",
        "z_ = -(perceptron_setoa.w[0]*x_points + perceptron_setoa.b)/perceptron_setoa.w[1]\n",
        "plt.plot(x_points, y_)\n",
        "\n",
        "# plt.plot(data[:50, 0], data[:50, 1], 'bo', color='blue', label='0')\n",
        "# plt.plot(data[50:100, 0], data[50:100, 1], 'bo', color='orange', label='1')\n",
        "plt.plot(data_total[:50, 1], data_total[:50, 0],'bo', color='blue', label='setoa')\n",
        "plt.plot(data_total[50:150, 1],data_total[50:150, 0], 'bo', color='orange', label='non-setoa')\n",
        "plt.xlabel('petal width')\n",
        "plt.ylabel('petal length')\n",
        "plt.legend()"
      ],
      "execution_count": 142,
      "outputs": [
        {
          "output_type": "execute_result",
          "data": {
            "text/plain": [
              "<matplotlib.legend.Legend at 0x7f29c6e132e8>"
            ]
          },
          "metadata": {
            "tags": []
          },
          "execution_count": 142
        },
        {
          "output_type": "display_data",
          "data": {
            "image/png": "[encoded data removed]",
            "text/plain": [
              "<Figure size 432x288 with 1 Axes>"
            ]
          },
          "metadata": {
            "tags": [],
            "needs_background": "light"
          }
        }
      ]
    },
    {
      "cell_type": "code",
      "metadata": {
        "id": "BCOiSU3Svftp",
        "colab_type": "code",
        "outputId": "40fbf35f-6087-4fde-e239-c0461d6a426e",
        "colab": {
          "base_uri": "https://localhost:8080/",
          "height": 296
        }
      },
      "source": [
        "x_points = np.linspace(0,3)\n",
        "# y_points = np.linspace(0,3)\n",
        "y_ = -(perceptron_virginica.w[0]*x_points + perceptron_virginica.b)/perceptron_virginica.w[1]\n",
        "# z_ = -(perceptron_setoa.w[0]*y_points + perceptron_setoa.b)/perceptron_setoa.w[1]\n",
        "plt.plot(x_points, y_)\n",
        "# plt.plot(y_points, z_)\n",
        "# plt.plot(data[:50, 0], data[:50, 1], 'bo', color='blue', label='0')\n",
        "# plt.plot(data[50:100, 0], data[50:100, 1], 'bo', color='orange', label='1')\n",
        "plt.plot(data_total[100:150, 1], data_total[100:150, 0],'bo', color='blue', label='virginica')\n",
        "plt.plot(data_total[50:100, 1], data_total[50:100, 0],'bo', color='orange', label='non-virginica')\n",
        "# plt.plot(data_total[50:100, 1],data_total[50:100, 0], 'bo', color='orange', label='versicolor')\n",
        "# plt.plot(data_total[:50, 1],data_total[:50, 0], 'bo', color='green', label='setosa')\n",
        "plt.xlabel('petal width')\n",
        "plt.ylabel('petal length')\n",
        "plt.legend()"
      ],
      "execution_count": 149,
      "outputs": [
        {
          "output_type": "execute_result",
          "data": {
            "text/plain": [
              "<matplotlib.legend.Legend at 0x7f29c6ab9898>"
            ]
          },
          "metadata": {
            "tags": []
          },
          "execution_count": 149
        },
        {
          "output_type": "display_data",
          "data": {
            "image/png": "[encoded data removed]",
            "text/plain": [
              "<Figure size 432x288 with 1 Axes>"
            ]
          },
          "metadata": {
            "tags": [],
            "needs_background": "light"
          }
        }
      ]
    },
    {
      "cell_type": "code",
      "metadata": {
        "id": "BNw-1b1g9VLr",
        "colab_type": "code",
        "colab": {}
      },
      "source": [
        "import os\n",
        "import sys\n",
        "import time\n",
        "import gzip\n",
        "# import cPickle\n",
        "# !pip install -q matplotlib-venn\n",
        "import numpy\n",
        "\n",
        "import theano\n",
        "import theano.tensor as T\n"
      ],
      "execution_count": 0,
      "outputs": []
    },
    {
      "cell_type": "code",
      "metadata": {
        "id": "i2_wpMJB9bCq",
        "colab_type": "code",
        "colab": {}
      },
      "source": [
        "class HiddenLayer(object):\n",
        "    def __init__(self, rng, input, n_in, n_out, W=None, b=None, activation=T.tanh):\n",
        "         self.input = input   #类HiddenLayer的input即所传递进来的input\n",
        "\n",
        "         \"\"\"\n",
        "         注释：\n",
        "         代码要兼容GPU，则必须使用 dtype=theano.config.floatX,并且定义为theano.shared\n",
        "         另外，W的初始化有个规则：如果使用tanh函数，则在-sqrt(6./(n_in+n_hidden))到sqrt(6./(n_in+n_hidden))之间均匀\n",
        "         抽取数值来初始化W，若时sigmoid函数，则以上再乘4倍。\n",
        "         \"\"\"\n",
        "         #如果W没有给定，即等于None，则根据上述的规则随机初始化。\n",
        "         #加入这个判断的原因是：有时候我们可以用训练好的参数来初始化W，见我的上一篇文章。\n",
        "\n",
        "         #用上面定义的W、b来初始化类HiddenLayer的W、b\n",
        "         self.W = W\n",
        "         self.b = b\n",
        "\n",
        "        #隐含层的输出\n",
        "         lin_output = T.dot(input, self.W) + self.b\n",
        "         self.output = (\n",
        "            lin_output if activation is None\n",
        "            else activation(lin_output)\n",
        "         )\n",
        "\n",
        "        #隐含层的参数\n",
        "         self.params = [self.W, self.b]"
      ],
      "execution_count": 0,
      "outputs": []
    },
    {
      "cell_type": "code",
      "metadata": {
        "id": "HZx4YmvSyguW",
        "colab_type": "code",
        "colab": {}
      },
      "source": [
        "class LogisticRegression(object):\n",
        "    def __init__(self, input, n_in, n_out):\n",
        "\n",
        "#W大小是n_in行n_out列，b为n_out维向量。即：每个输出对应W的一列以及b的一个元素。  \n",
        "        self.W = theano.shared(\n",
        "            value=numpy.zeros(\n",
        "                (n_in, n_out),\n",
        "                dtype=theano.config.floatX\n",
        "            ),\n",
        "            name='W',\n",
        "            borrow=True\n",
        "        )\n",
        "\n",
        "        self.b = theano.shared(\n",
        "            value=numpy.zeros(\n",
        "                (n_out,),\n",
        "                dtype=theano.config.floatX\n",
        "            ),\n",
        "            name='b',\n",
        "            borrow=True\n",
        "        )\n",
        "\n",
        "#input是(n_example,n_in)，W是（n_in,n_out）,点乘得到(n_example,n_out)，加上偏置b，\n",
        "#再作为T.nnet.softmax的输入，得到p_y_given_x\n",
        "#故p_y_given_x每一行代表每一个样本被估计为各类别的概率    \n",
        "#PS：b是n_out维向量，与(n_example,n_out)矩阵相加，内部其实是先复制n_example个b，\n",
        "#然后(n_example,n_out)矩阵的每一行都加b\n",
        "        self.p_y_given_x = T.nnet.softmax(T.dot(input, self.W) + self.b)\n",
        "\n",
        "#argmax返回最大值下标，因为本例数据集是MNIST，下标刚好就是类别。axis=1表示按行操作。\n",
        "        self.y_pred = T.argmax(self.p_y_given_x, axis=1)\n",
        "\n",
        "#params，LogisticRegression的参数     \n",
        "        self.params = [self.W, self.b]\n",
        "\n",
        "    def negative_log_likelihood(self, y):\n",
        "        return -T.mean(T.log(self.p_y_given_x)[T.arange(y.shape[0]), y])\n",
        "\n",
        "    def errors(self, y):\n",
        "        if y.ndim != self.y_pred.ndim:\n",
        "            raise TypeError(\n",
        "                'y should have the same shape as self.y_pred',\n",
        "                ('y', y.type, 'y_pred', self.y_pred.type)\n",
        "            )\n",
        "        if y.dtype.startswith('int'):\n",
        "            return T.mean(T.neq(self.y_pred, y))\n",
        "        else:\n",
        "            raise NotImplementedError()"
      ],
      "execution_count": 0,
      "outputs": []
    },
    {
      "cell_type": "code",
      "metadata": {
        "id": "Ji5xPfDOyocX",
        "colab_type": "code",
        "colab": {}
      },
      "source": [
        "class MLP(object):\n",
        "    def __init__(self, rng, input, n_in, n_hidden, n_out):\n",
        "        \n",
        "        self.hiddenLayer = HiddenLayer(\n",
        "            rng=rng,\n",
        "            input=input,\n",
        "            n_in=n_in,\n",
        "            n_out=n_hidden,\n",
        "            activation=T.tanh\n",
        "        )\n",
        "\n",
        "#将隐含层hiddenLayer的输出作为分类层logRegressionLayer的输入，这样就把它们连接了\n",
        "        self.logRegressionLayer = LogisticRegression(\n",
        "            input=self.hiddenLayer.output,\n",
        "            n_in=n_hidden,\n",
        "            n_out=n_out\n",
        "        )\n",
        "\n",
        "#规则化项：常见的L1、L2_sqr\n",
        "        self.L1 = (\n",
        "            abs(self.hiddenLayer.W).sum()\n",
        "            + abs(self.logRegressionLayer.W).sum()\n",
        "        )\n",
        "\n",
        "        self.L2_sqr = (\n",
        "            (self.hiddenLayer.W ** 2).sum()\n",
        "            + (self.logRegressionLayer.W ** 2).sum()\n",
        "        )\n",
        "\n",
        "#损失函数Nll（也叫代价函数）\n",
        "        self.negative_log_likelihood = (\n",
        "            self.logRegressionLayer.negative_log_likelihood\n",
        "        )\n",
        "\n",
        "#误差      \n",
        "        self.errors = self.logRegressionLayer.errors\n",
        "\n",
        "#MLP的参数\n",
        "        self.params = self.hiddenLayer.params + self.logRegressionLayer.params\n",
        "        # end-snippet-3\n"
      ],
      "execution_count": 0,
      "outputs": []
    },
    {
      "cell_type": "code",
      "metadata": {
        "id": "aohjAX-816TI",
        "colab_type": "code",
        "colab": {}
      },
      "source": [
        "def load_data(dataset):\n",
        "    # dataset是数据集的路径，程序首先检测该路径下有没有MNIST数据集，没有的话就下载MNIST数据集\n",
        "    #这一部分就不解释了，与softmax回归算法无关。\n",
        "    data_dir, data_file = os.path.split(dataset)\n",
        "    if data_dir == \"\" and not os.path.isfile(dataset):\n",
        "        # Check if dataset is in the data directory.\n",
        "        new_path = os.path.join(\n",
        "            os.path.split(__file__)[0],\n",
        "            \"..\",\n",
        "            \"data\",\n",
        "            dataset\n",
        "        )\n",
        "        if os.path.isfile(new_path) or data_file == 'mnist.pkl.gz':\n",
        "            dataset = new_path\n",
        "\n",
        "    if (not os.path.isfile(dataset)) and data_file == 'mnist.pkl.gz':\n",
        "        import urllib\n",
        "        origin = (\n",
        "            'http://www.iro.umontreal.ca/~lisa/deep/data/mnist/mnist.pkl.gz'\n",
        "        )\n",
        "#        print 'Downloading data from %s' % origin\n",
        "        urllib.urlretrieve(origin, dataset)\n",
        "\n",
        "#    print '... loading data'\n",
        "#以上是检测并下载数据集mnist.pkl.gz，不是本文重点。下面才是load_data的开始\n",
        "    \n",
        "#从\"mnist.pkl.gz\"里加载train_set, valid_set, test_set，它们都是包括label的\n",
        "#主要用到python里的gzip.open()函数,以及 cPickle.load()。\n",
        "#‘rb’表示以二进制可读的方式打开文件\n",
        "    f = gzip.open(dataset, 'rb')\n",
        "    train_set, valid_set, test_set = cPickle.load(f)\n",
        "    f.close()\n",
        "   \n",
        "\n",
        "#将数据设置成shared variables，主要时为了GPU加速，只有shared variables才能存到GPU memory中\n",
        "#GPU里数据类型只能是float。而data_y是类别，所以最后又转换为int返回\n",
        "    def shared_dataset(data_xy, borrow=True):\n",
        "        data_x, data_y = data_xy\n",
        "        shared_x = theano.shared(numpy.asarray(data_x,\n",
        "                                               dtype=theano.config.floatX),\n",
        "                                 borrow=borrow)\n",
        "        shared_y = theano.shared(numpy.asarray(data_y,\n",
        "                                               dtype=theano.config.floatX),\n",
        "                                 borrow=borrow)\n",
        "        return shared_x, T.cast(shared_y, 'int32')\n",
        "\n",
        "\n",
        "    test_set_x, test_set_y = shared_dataset(test_set)\n",
        "    valid_set_x, valid_set_y = shared_dataset(valid_set)\n",
        "    train_set_x, train_set_y = shared_dataset(train_set)\n",
        "\n",
        "    rval = [(train_set_x, train_set_y), (valid_set_x, valid_set_y),\n",
        "            (test_set_x, test_set_y)]\n",
        "    return rval"
      ],
      "execution_count": 0,
      "outputs": []
    },
    {
      "cell_type": "code",
      "metadata": {
        "id": "Irh81mWUzwSa",
        "colab_type": "code",
        "colab": {}
      },
      "source": [
        "def test_mlp(learning_rate=0.01, L1_reg=0.00, L2_reg=0.0001, n_epochs=10,\n",
        "             dataset='mnist.pkl.gz', batch_size=20, n_hidden=500):\n",
        "    \"\"\"\n",
        "注释：\n",
        "learning_rate学习速率，梯度前的系数。\n",
        "L1_reg、L2_reg：正则化项前的系数，权衡正则化项与Nll项的比重\n",
        "代价函数=Nll+L1_reg*L1或者L2_reg*L2_sqr\n",
        "n_epochs：迭代的最大次数（即训练步数），用于结束优化过程\n",
        "dataset：训练数据的路径\n",
        "n_hidden:隐藏层神经元个数\n",
        "batch_size=20，即每训练完20个样本才计算梯度并更新参数\n",
        "   \"\"\"\n",
        "\n",
        "#加载数据集，并分为训练集、验证集、测试集。\n",
        "    datasets = load_data(dataset)\n",
        "    train_set_x, train_set_y = datasets[0]\n",
        "    valid_set_x, valid_set_y = datasets[1]\n",
        "    test_set_x, test_set_y = datasets[2]\n",
        "\n",
        "\n",
        "#shape[0]获得行数，一行代表一个样本，故获取的是样本数，除以batch_size可以得到有多少个batch\n",
        "    n_train_batches = train_set_x.get_value(borrow=True).shape[0] / batch_size\n",
        "    n_valid_batches = valid_set_x.get_value(borrow=True).shape[0] / batch_size\n",
        "    n_test_batches = test_set_x.get_value(borrow=True).shape[0] / batch_size\n",
        "\n",
        "    ######################\n",
        "    # BUILD ACTUAL MODEL #\n",
        "    ######################\n",
        "    #print '... building the model'\n",
        "\n",
        "#index表示batch的下标，标量\n",
        "#x表示数据集\n",
        "#y表示类别，一维向量\n",
        "    index = T.lscalar()  \n",
        "    x = T.matrix('x') \n",
        "    y = T.ivector('y')  \n",
        "                       \n",
        "\n",
        "    rng = numpy.random.RandomState(1234)\n",
        "#生成一个MLP，命名为classifier\n",
        "    classifier = MLP(\n",
        "        rng=rng,\n",
        "        input=x,\n",
        "        n_in=28 * 28,\n",
        "        n_hidden=n_hidden,\n",
        "        n_out=10\n",
        "    )\n",
        "\n",
        "#代价函数，有规则化项\n",
        "#用y来初始化，而其实还有一个隐含的参数x在classifier中\n",
        "    cost = (\n",
        "        classifier.negative_log_likelihood(y)\n",
        "        + L1_reg * classifier.L1\n",
        "        + L2_reg * classifier.L2_sqr\n",
        "    )\n",
        "\n",
        "\n",
        "#这里必须说明一下theano的function函数，givens是字典，其中的x、y是key，冒号后面是它们的value。\n",
        "#在function被调用时，x、y将被具体地替换为它们的value，而value里的参数index就是inputs=[index]这里给出。\n",
        "#下面举个例子：\n",
        "#比如test_model(1)，首先根据index=1具体化x为test_set_x[1 * batch_size: (1 + 1) * batch_size]，\n",
        "#具体化y为test_set_y[1 * batch_size: (1 + 1) * batch_size]。然后函数计算outputs=classifier.errors(y)，\n",
        "#这里面有参数y和隐含的x，所以就将givens里面具体化的x、y传递进去。\n",
        "    test_model = theano.function(\n",
        "        inputs=[index],\n",
        "        outputs=classifier.errors(y),\n",
        "        givens={\n",
        "            x: test_set_x[index * batch_size:(index + 1) * batch_size],\n",
        "            y: test_set_y[index * batch_size:(index + 1) * batch_size]\n",
        "        }\n",
        "    )\n",
        "\n",
        "    validate_model = theano.function(\n",
        "        inputs=[index],\n",
        "        outputs=classifier.errors(y),\n",
        "        givens={\n",
        "            x: valid_set_x[index * batch_size:(index + 1) * batch_size],\n",
        "            y: valid_set_y[index * batch_size:(index + 1) * batch_size]\n",
        "        }\n",
        "    )\n",
        "\n",
        "#cost函数对各个参数的偏导数值，即梯度，存于gparams\n",
        "    gparams = [T.grad(cost, param) for param in classifier.params]\n",
        "    \n",
        "#参数更新规则\n",
        "#updates[(),(),()....],每个括号里面都是(param, param - learning_rate * gparam)，即每个参数以及它的更新公式\n",
        "    updates = [\n",
        "        (param, param - learning_rate * gparam)\n",
        "        for param, gparam in zip(classifier.params, gparams)\n",
        "    ]\n",
        "\n",
        "    train_model = theano.function(\n",
        "        inputs=[index],\n",
        "        outputs=cost,\n",
        "        updates=updates,\n",
        "        givens={\n",
        "            x: train_set_x[index * batch_size: (index + 1) * batch_size],\n",
        "            y: train_set_y[index * batch_size: (index + 1) * batch_size]\n",
        "        }\n",
        "    )\n",
        "\n",
        "\n",
        "    ###############\n",
        "    # 开始训练模型 #\n",
        "    ###############\n",
        "    #print '... training'\n",
        "    \n",
        "\n",
        "\n",
        "    patience = 10000  \n",
        "    patience_increase = 2  \n",
        "#提高的阈值，在验证误差减小到之前的0.995倍时，会更新best_validation_loss  \n",
        "    improvement_threshold = 0.995  \n",
        "#这样设置validation_frequency可以保证每一次epoch都会在验证集上测试。  \n",
        "    validation_frequency = min(n_train_batches, patience / 2)\n",
        "  \n",
        "\n",
        "    best_validation_loss = numpy.inf\n",
        "    best_iter = 0\n",
        "    test_score = 0.\n",
        "    start_time = time.clock()\n",
        "    \n",
        "#epoch即训练步数，每个epoch都会遍历所有训练数据\n",
        "    epoch = 0\n",
        "    done_looping = False\n",
        "\n",
        "\n",
        "#下面就是训练过程了，while循环控制的时步数epoch，一个epoch会遍历所有的batch，即所有的图片。\n",
        "#for循环是遍历一个个batch，一次一个batch地训练。for循环体里会用train_model(minibatch_index)去训练模型，\n",
        "#train_model里面的updatas会更新各个参数。\n",
        "#for循环里面会累加训练过的batch数iter，当iter是validation_frequency倍数时则会在验证集上测试，\n",
        "#如果验证集的损失this_validation_loss小于之前最佳的损失best_validation_loss，\n",
        "#则更新best_validation_loss和best_iter，同时在testset上测试。\n",
        "#如果验证集的损失this_validation_loss小于best_validation_loss*improvement_threshold时则更新patience。\n",
        "#当达到最大步数n_epoch时，或者patience<iter时，结束训练\n",
        "    while (epoch < n_epochs) and (not done_looping):\n",
        "        epoch = epoch + 1\n",
        "        for minibatch_index in xrange(n_train_batches):#训练时一个batch一个batch进行的\n",
        "\n",
        "            minibatch_avg_cost = train_model(minibatch_index)\n",
        "            # 已训练过的minibatch数，即迭代次数iter\n",
        "            iter = (epoch - 1) * n_train_batches + minibatch_index\n",
        "#训练过的minibatch数是validation_frequency倍数，则进行交叉验证\n",
        "            if (iter + 1) % validation_frequency == 0:\n",
        "                # compute zero-one loss on validation set\n",
        "                validation_losses = [validate_model(i) for i\n",
        "                                     in xrange(n_valid_batches)]\n",
        "                this_validation_loss = numpy.mean(validation_losses)\n",
        "\n",
        "                print(\n",
        "                    'epoch %i, minibatch %i/%i, validation error %f %%' %\n",
        "                    (\n",
        "                        epoch,\n",
        "                        minibatch_index + 1,\n",
        "                        n_train_batches,\n",
        "                        this_validation_loss * 100.\n",
        "                    )\n",
        "                )\n",
        "#当前验证误差比之前的都小，则更新best_validation_loss，以及对应的best_iter，并且在tsetdata上进行test\n",
        "                if this_validation_loss < best_validation_loss:\n",
        "                    if (\n",
        "                        this_validation_loss < best_validation_loss *\n",
        "                        improvement_threshold\n",
        "                    ):\n",
        "                        patience = max(patience, iter * patience_increase)\n",
        "\n",
        "                    best_validation_loss = this_validation_loss\n",
        "                    best_iter = iter\n",
        "\n",
        "                    test_losses = [test_model(i) for i\n",
        "                                   in xrange(n_test_batches)]\n",
        "                    test_score = numpy.mean(test_losses)\n",
        "\n",
        "                    print(('     epoch %i, minibatch %i/%i, test error of '\n",
        "                           'best model %f %%') %\n",
        "                          (epoch, minibatch_index + 1, n_train_batches,\n",
        "                           test_score * 100.))\n",
        "#patience小于等于iter，则终止训练\n",
        "            if patience <= iter:\n",
        "                done_looping = True\n",
        "                break\n",
        "\n",
        "    end_time = time.clock()\n",
        "    print(('Optimization complete. Best validation score of %f %% '\n",
        "           'obtained at iteration %i, with test performance %f %%') %\n",
        "          (best_validation_loss * 100., best_iter + 1, test_score * 100.))\n",
        "    print >> sys.stderr, ('The code for file ' +\n",
        "                          os.path.split(__file__)[1] +\n",
        "                          ' ran for %.2fm' % ((end_time - start_time) / 60.))"
      ],
      "execution_count": 0,
      "outputs": []
    },
    {
      "cell_type": "code",
      "metadata": {
        "id": "Rrx84kJM10QC",
        "colab_type": "code",
        "colab": {
          "base_uri": "https://localhost:8080/",
          "height": 324
        },
        "outputId": "961bf056-024b-4d88-9520-34afd7f02f38"
      },
      "source": [
        "if __name__ == '__main__':\n",
        "    test_mlp()"
      ],
      "execution_count": 163,
      "outputs": [
        {
          "output_type": "error",
          "ename": "NameError",
          "evalue": "ignored",
          "traceback": [
            "\u001b[0;31m---------------------------------------------------------------------------\u001b[0m",
            "\u001b[0;31mNameError\u001b[0m                                 Traceback (most recent call last)",
            "\u001b[0;32m<ipython-input-163-176e16dc4030>\u001b[0m in \u001b[0;36m<module>\u001b[0;34m()\u001b[0m\n\u001b[1;32m      1\u001b[0m \u001b[0;32mif\u001b[0m \u001b[0m__name__\u001b[0m \u001b[0;34m==\u001b[0m \u001b[0;34m'__main__'\u001b[0m\u001b[0;34m:\u001b[0m\u001b[0;34m\u001b[0m\u001b[0;34m\u001b[0m\u001b[0m\n\u001b[0;32m----> 2\u001b[0;31m     \u001b[0mtest_mlp\u001b[0m\u001b[0;34m(\u001b[0m\u001b[0;34m)\u001b[0m\u001b[0;34m\u001b[0m\u001b[0;34m\u001b[0m\u001b[0m\n\u001b[0m",
            "\u001b[0;32m<ipython-input-162-8f23178cc4ed>\u001b[0m in \u001b[0;36mtest_mlp\u001b[0;34m(learning_rate, L1_reg, L2_reg, n_epochs, dataset, batch_size, n_hidden)\u001b[0m\n\u001b[1;32m     13\u001b[0m \u001b[0;34m\u001b[0m\u001b[0m\n\u001b[1;32m     14\u001b[0m \u001b[0;31m#加载数据集，并分为训练集、验证集、测试集。\u001b[0m\u001b[0;34m\u001b[0m\u001b[0;34m\u001b[0m\u001b[0;34m\u001b[0m\u001b[0m\n\u001b[0;32m---> 15\u001b[0;31m     \u001b[0mdatasets\u001b[0m \u001b[0;34m=\u001b[0m \u001b[0mload_data\u001b[0m\u001b[0;34m(\u001b[0m\u001b[0mdataset\u001b[0m\u001b[0;34m)\u001b[0m\u001b[0;34m\u001b[0m\u001b[0;34m\u001b[0m\u001b[0m\n\u001b[0m\u001b[1;32m     16\u001b[0m     \u001b[0mtrain_set_x\u001b[0m\u001b[0;34m,\u001b[0m \u001b[0mtrain_set_y\u001b[0m \u001b[0;34m=\u001b[0m \u001b[0mdatasets\u001b[0m\u001b[0;34m[\u001b[0m\u001b[0;36m0\u001b[0m\u001b[0;34m]\u001b[0m\u001b[0;34m\u001b[0m\u001b[0;34m\u001b[0m\u001b[0m\n\u001b[1;32m     17\u001b[0m     \u001b[0mvalid_set_x\u001b[0m\u001b[0;34m,\u001b[0m \u001b[0mvalid_set_y\u001b[0m \u001b[0;34m=\u001b[0m \u001b[0mdatasets\u001b[0m\u001b[0;34m[\u001b[0m\u001b[0;36m1\u001b[0m\u001b[0;34m]\u001b[0m\u001b[0;34m\u001b[0m\u001b[0;34m\u001b[0m\u001b[0m\n",
            "\u001b[0;32m<ipython-input-161-3c1a84d8a2a9>\u001b[0m in \u001b[0;36mload_data\u001b[0;34m(dataset)\u001b[0m\n\u001b[1;32m      6\u001b[0m         \u001b[0;31m# Check if dataset is in the data directory.\u001b[0m\u001b[0;34m\u001b[0m\u001b[0;34m\u001b[0m\u001b[0;34m\u001b[0m\u001b[0m\n\u001b[1;32m      7\u001b[0m         new_path = os.path.join(\n\u001b[0;32m----> 8\u001b[0;31m             \u001b[0mos\u001b[0m\u001b[0;34m.\u001b[0m\u001b[0mpath\u001b[0m\u001b[0;34m.\u001b[0m\u001b[0msplit\u001b[0m\u001b[0;34m(\u001b[0m\u001b[0m__file__\u001b[0m\u001b[0;34m)\u001b[0m\u001b[0;34m[\u001b[0m\u001b[0;36m0\u001b[0m\u001b[0;34m]\u001b[0m\u001b[0;34m,\u001b[0m\u001b[0;34m\u001b[0m\u001b[0;34m\u001b[0m\u001b[0m\n\u001b[0m\u001b[1;32m      9\u001b[0m             \u001b[0;34m\"..\"\u001b[0m\u001b[0;34m,\u001b[0m\u001b[0;34m\u001b[0m\u001b[0;34m\u001b[0m\u001b[0m\n\u001b[1;32m     10\u001b[0m             \u001b[0;34m\"data\"\u001b[0m\u001b[0;34m,\u001b[0m\u001b[0;34m\u001b[0m\u001b[0;34m\u001b[0m\u001b[0m\n",
            "\u001b[0;31mNameError\u001b[0m: name '__file__' is not defined"
          ]
        }
      ]
    },
    {
      "cell_type": "markdown",
      "metadata": {
        "id": "jBe3xiS_T1i9",
        "colab_type": "text"
      },
      "source": [
        "Now we build a network. A stack of layers is captured by the tf.keras.Sequential model."
      ]
    },
    {
      "cell_type": "code",
      "metadata": {
        "id": "nE7mEeFPT1i9",
        "colab_type": "code",
        "colab": {}
      },
      "source": [
        "# import numpy as np\n",
        "import random\n",
        "ids=random.sample(range(0,len(inputs)), 100) # generate 100 random ids\n",
        "train_in = []\n",
        "train_out=[]\n",
        "for id in ids:\n",
        "    train_in.append(inputs[id])\n",
        "    train_out.append(outputs[id])\n",
        "train_inputs  = np.array(train_in)\n",
        "train_outputs = np.array(train_out)\n",
        "\n",
        "val_input =[]\n",
        "val_output=[]\n",
        "validation_ids = list(set(range(0,len(inputs))) - set(ids))\n",
        "for val_id in validation_ids:\n",
        "    val_input.append(inputs[val_id])\n",
        "    val_output.append(outputs[val_id])\n",
        "val_inputs  = np.array(val_input)\n",
        "val_outputs = np.array(val_output)\n"
      ],
      "execution_count": 0,
      "outputs": []
    },
    {
      "cell_type": "code",
      "metadata": {
        "id": "5ATzRZK2Uu-G",
        "colab_type": "code",
        "outputId": "3bbcdb13-1b63-4939-befb-78fbd93ead37",
        "colab": {
          "base_uri": "https://localhost:8080/",
          "height": 34
        }
      },
      "source": [
        ""
      ],
      "execution_count": 0,
      "outputs": [
        {
          "output_type": "stream",
          "text": [
            "weights: [  7.9  -10.07]\tbias: -12.399999999999972\n"
          ],
          "name": "stdout"
        }
      ]
    },
    {
      "cell_type": "code",
      "metadata": {
        "id": "YAeR8U6JBcAJ",
        "colab_type": "code",
        "outputId": "5ac825cf-86ae-4939-a9e1-e662bc4e1dd8",
        "colab": {
          "base_uri": "https://localhost:8080/",
          "height": 102
        }
      },
      "source": [
        "print(train_outputs[10:15])"
      ],
      "execution_count": 0,
      "outputs": [
        {
          "output_type": "stream",
          "text": [
            "[[0. 0. 1.]\n",
            " [0. 0. 1.]\n",
            " [0. 0. 1.]\n",
            " [0. 0. 1.]\n",
            " [0. 0. 1.]]\n"
          ],
          "name": "stdout"
        }
      ]
    },
    {
      "cell_type": "code",
      "metadata": {
        "id": "WsABpVVDT1i_",
        "colab_type": "code",
        "outputId": "ffde7248-af0f-492e-cecd-f057dc129cdd",
        "colab": {
          "base_uri": "https://localhost:8080/",
          "height": 139
        }
      },
      "source": [
        "\n",
        "tf.disable_v2_behavior()\n",
        "model = tf.keras.Sequential()\n",
        "# an mlp with a given number of input nodes. Four input nodes, three output nodes \n",
        "nr_hidden = 5\n",
        "nr_in     = 4\n",
        "nr_out    = 3 \n",
        "model.add(layers.Dense(nr_in,activation='relu'))\n",
        "model.add(layers.Dense(nr_hidden, activation = 'sigmoid'))\n",
        "model.add(layers.Dense(nr_out,activation='sigmoid'))\n",
        "model.compile(optimizer=tf.train.GradientDescentOptimizer(0.05),loss='mse',metrics=['accuracy'])"
      ],
      "execution_count": 0,
      "outputs": [
        {
          "output_type": "stream",
          "text": [
            "WARNING:tensorflow:From /usr/local/lib/python3.6/dist-packages/tensorflow/python/compat/v2_compat.py:96: disable_resource_variables (from tensorflow.python.ops.variable_scope) is deprecated and will be removed in a future version.\n",
            "Instructions for updating:\n",
            "non-resource variables are not supported in the long term\n",
            "WARNING:tensorflow:From /usr/local/lib/python3.6/dist-packages/tensorflow/python/ops/resource_variable_ops.py:1666: calling BaseResourceVariable.__init__ (from tensorflow.python.ops.resource_variable_ops) with constraint is deprecated and will be removed in a future version.\n",
            "Instructions for updating:\n",
            "If using Keras pass *_constraint arguments to layers.\n"
          ],
          "name": "stdout"
        }
      ]
    },
    {
      "cell_type": "markdown",
      "metadata": {
        "id": "TN5Q7sv-T1jC",
        "colab_type": "text"
      },
      "source": [
        "Create training set and bring them into a numpy array form. Let's use a 100 patterns for training. Also, build a validation set."
      ]
    },
    {
      "cell_type": "markdown",
      "metadata": {
        "id": "H-m5FXGET1jC",
        "colab_type": "text"
      },
      "source": [
        "Now train:"
      ]
    },
    {
      "cell_type": "code",
      "metadata": {
        "id": "xtfHXnap9St8",
        "colab_type": "code",
        "colab": {}
      },
      "source": [
        "earlystop=tf.keras.callbacks.EarlyStopping(monitor='val_acc',min_delta=-0.01,patience=200,verbose=True,restore_best_weights=True)\n",
        "callbacks=[earlystop]\n",
        "history_model = model.fit(train_inputs,train_outputs,epochs=20000,batch_size=30,validation_data=(val_inputs,val_outputs),callbacks=callbacks)\n",
        "#model.fit(train_inputs,train_outputs,epochs=500,batch_size=30, validation_data=(val_inputs, val_outputs))"
      ],
      "execution_count": 0,
      "outputs": []
    },
    {
      "cell_type": "code",
      "metadata": {
        "id": "ky-VIVrfbM0x",
        "colab_type": "code",
        "outputId": "9670cc5b-e433-48c6-d498-ab3c3c9665a7",
        "colab": {
          "base_uri": "https://localhost:8080/",
          "height": 279
        }
      },
      "source": [
        "vla_accu=[]\n",
        "vla_accu=history_model.history['val_acc']\n",
        "vla_loss=[]\n",
        "val_loss=history_model.history['val_loss']\n",
        "\n",
        "Epochs=[]\n",
        "i=0\n",
        "for i in range(0,len(vla_accu)):\n",
        "  Epochs.append(i)\n",
        "  i += 1\n",
        "# Sepal length with Petal length\n",
        "plt.plot(Epochs,vla_accu,c='b',label=\"vlidation acc\")\n",
        "plt.xlabel('epoch')\n",
        "plt.ylabel('valid accuracy')\n",
        "# plt.legend()\n",
        "plt.show()"
      ],
      "execution_count": 0,
      "outputs": [
        {
          "output_type": "display_data",
          "data": {
            "image/png": "[encoded data removed]",
            "text/plain": [
              "<Figure size 432x288 with 1 Axes>"
            ]
          },
          "metadata": {
            "tags": [],
            "needs_background": "light"
          }
        }
      ]
    },
    {
      "cell_type": "code",
      "metadata": {
        "id": "uTuYNtFAdxHB",
        "colab_type": "code",
        "outputId": "28debb44-0481-4ba5-de91-5476f188be6a",
        "colab": {
          "base_uri": "https://localhost:8080/",
          "height": 34
        }
      },
      "source": [
        "w1 = tf.Variable(tf.random_normal(shape=[4]), name='w1')\n",
        "w2 = tf.Variable(tf.random_normal(shape=[3]), name='w2')\n",
        "saver = tf.train.Saver([w1,w2])\n",
        "sess = tf.Session()\n",
        "\n",
        "sess.run(tf.global_variables_initializer())\n",
        "saver.save(sess, \"drive/My Drive/Bio/model-1.ckpt\")"
      ],
      "execution_count": 0,
      "outputs": [
        {
          "output_type": "execute_result",
          "data": {
            "text/plain": [
              "'drive/My Drive/Bio/model-1.ckpt'"
            ]
          },
          "metadata": {
            "tags": []
          },
          "execution_count": 48
        }
      ]
    },
    {
      "cell_type": "code",
      "metadata": {
        "id": "pWZCMijYkKIm",
        "colab_type": "code",
        "colab": {}
      },
      "source": [
        ""
      ],
      "execution_count": 0,
      "outputs": []
    },
    {
      "cell_type": "code",
      "metadata": {
        "id": "-3HKIhkleLkg",
        "colab_type": "code",
        "outputId": "10cde5fd-3a6f-43ae-ad66-db798e123a99",
        "colab": {
          "base_uri": "https://localhost:8080/",
          "height": 216
        }
      },
      "source": [
        "output = []\n",
        "import tensorflow.compat.v1 as tf\n",
        "with tf.Session() as sess:\n",
        "  new_saver = tf.train.import_meta_graph('./drive/My Drive/Bio/model-1.ckpt.meta')\n",
        "  new_saver.restore(sess, tf.train.latest_checkpoint('./drive/My Drive/Bio'))\n",
        "  sess.run(tf.argmax(output,1), {val_inputs: val_outputs})\n"
      ],
      "execution_count": 0,
      "outputs": [
        {
          "output_type": "stream",
          "text": [
            "INFO:tensorflow:Restoring parameters from ./drive/My Drive/Bio/model-1.ckpt\n"
          ],
          "name": "stdout"
        },
        {
          "output_type": "error",
          "ename": "TypeError",
          "evalue": "ignored",
          "traceback": [
            "\u001b[0;31m---------------------------------------------------------------------------\u001b[0m",
            "\u001b[0;31mTypeError\u001b[0m                                 Traceback (most recent call last)",
            "\u001b[0;32m<ipython-input-53-8ee1f7889965>\u001b[0m in \u001b[0;36m<module>\u001b[0;34m()\u001b[0m\n\u001b[1;32m      4\u001b[0m   \u001b[0mnew_saver\u001b[0m \u001b[0;34m=\u001b[0m \u001b[0mtf\u001b[0m\u001b[0;34m.\u001b[0m\u001b[0mtrain\u001b[0m\u001b[0;34m.\u001b[0m\u001b[0mimport_meta_graph\u001b[0m\u001b[0;34m(\u001b[0m\u001b[0;34m'./drive/My Drive/Bio/model-1.ckpt.meta'\u001b[0m\u001b[0;34m)\u001b[0m\u001b[0;34m\u001b[0m\u001b[0;34m\u001b[0m\u001b[0m\n\u001b[1;32m      5\u001b[0m   \u001b[0mnew_saver\u001b[0m\u001b[0;34m.\u001b[0m\u001b[0mrestore\u001b[0m\u001b[0;34m(\u001b[0m\u001b[0msess\u001b[0m\u001b[0;34m,\u001b[0m \u001b[0mtf\u001b[0m\u001b[0;34m.\u001b[0m\u001b[0mtrain\u001b[0m\u001b[0;34m.\u001b[0m\u001b[0mlatest_checkpoint\u001b[0m\u001b[0;34m(\u001b[0m\u001b[0;34m'./drive/My Drive/Bio'\u001b[0m\u001b[0;34m)\u001b[0m\u001b[0;34m)\u001b[0m\u001b[0;34m\u001b[0m\u001b[0;34m\u001b[0m\u001b[0m\n\u001b[0;32m----> 6\u001b[0;31m   \u001b[0msess\u001b[0m\u001b[0;34m.\u001b[0m\u001b[0mrun\u001b[0m\u001b[0;34m(\u001b[0m\u001b[0mtf\u001b[0m\u001b[0;34m.\u001b[0m\u001b[0margmax\u001b[0m\u001b[0;34m(\u001b[0m\u001b[0moutput\u001b[0m\u001b[0;34m,\u001b[0m\u001b[0;36m1\u001b[0m\u001b[0;34m)\u001b[0m\u001b[0;34m,\u001b[0m \u001b[0;34m{\u001b[0m\u001b[0mval_inputs\u001b[0m\u001b[0;34m:\u001b[0m \u001b[0mval_outputs\u001b[0m\u001b[0;34m}\u001b[0m\u001b[0;34m)\u001b[0m\u001b[0;34m\u001b[0m\u001b[0;34m\u001b[0m\u001b[0m\n\u001b[0m",
            "\u001b[0;31mTypeError\u001b[0m: unhashable type: 'numpy.ndarray'"
          ]
        }
      ]
    },
    {
      "cell_type": "code",
      "metadata": {
        "id": "dWogded7lKyI",
        "colab_type": "code",
        "outputId": "1d30e58f-ac11-4c79-a8da-f18ac400c508",
        "colab": {
          "base_uri": "https://localhost:8080/",
          "height": 477
        }
      },
      "source": [
        "with tf.Session() as sess:    \n",
        "    saver = tf.train.import_meta_graph('./drive/My Drive/Bio/model-1.ckpt.meta')\n",
        "    saver.restore(sess,tf.train.latest_checkpoint('./drive/My Drive/Bio'))\n",
        "    print(sess.run('w1:0'))\n"
      ],
      "execution_count": 0,
      "outputs": [
        {
          "output_type": "stream",
          "text": [
            "INFO:tensorflow:Restoring parameters from ./drive/My Drive/Bio/model-1.ckpt\n"
          ],
          "name": "stdout"
        },
        {
          "output_type": "error",
          "ename": "FailedPreconditionError",
          "evalue": "ignored",
          "traceback": [
            "\u001b[0;31m---------------------------------------------------------------------------\u001b[0m",
            "\u001b[0;31mFailedPreconditionError\u001b[0m                   Traceback (most recent call last)",
            "\u001b[0;32m/usr/local/lib/python3.6/dist-packages/tensorflow/python/client/session.py\u001b[0m in \u001b[0;36m_do_call\u001b[0;34m(self, fn, *args)\u001b[0m\n\u001b[1;32m   1364\u001b[0m     \u001b[0;32mtry\u001b[0m\u001b[0;34m:\u001b[0m\u001b[0;34m\u001b[0m\u001b[0;34m\u001b[0m\u001b[0m\n\u001b[0;32m-> 1365\u001b[0;31m       \u001b[0;32mreturn\u001b[0m \u001b[0mfn\u001b[0m\u001b[0;34m(\u001b[0m\u001b[0;34m*\u001b[0m\u001b[0margs\u001b[0m\u001b[0;34m)\u001b[0m\u001b[0;34m\u001b[0m\u001b[0;34m\u001b[0m\u001b[0m\n\u001b[0m\u001b[1;32m   1366\u001b[0m     \u001b[0;32mexcept\u001b[0m \u001b[0merrors\u001b[0m\u001b[0;34m.\u001b[0m\u001b[0mOpError\u001b[0m \u001b[0;32mas\u001b[0m \u001b[0me\u001b[0m\u001b[0;34m:\u001b[0m\u001b[0;34m\u001b[0m\u001b[0;34m\u001b[0m\u001b[0m\n",
            "\u001b[0;32m/usr/local/lib/python3.6/dist-packages/tensorflow/python/client/session.py\u001b[0m in \u001b[0;36m_run_fn\u001b[0;34m(feed_dict, fetch_list, target_list, options, run_metadata)\u001b[0m\n\u001b[1;32m   1349\u001b[0m       return self._call_tf_sessionrun(options, feed_dict, fetch_list,\n\u001b[0;32m-> 1350\u001b[0;31m                                       target_list, run_metadata)\n\u001b[0m\u001b[1;32m   1351\u001b[0m \u001b[0;34m\u001b[0m\u001b[0m\n",
            "\u001b[0;32m/usr/local/lib/python3.6/dist-packages/tensorflow/python/client/session.py\u001b[0m in \u001b[0;36m_call_tf_sessionrun\u001b[0;34m(self, options, feed_dict, fetch_list, target_list, run_metadata)\u001b[0m\n\u001b[1;32m   1442\u001b[0m                                             \u001b[0mfetch_list\u001b[0m\u001b[0;34m,\u001b[0m \u001b[0mtarget_list\u001b[0m\u001b[0;34m,\u001b[0m\u001b[0;34m\u001b[0m\u001b[0;34m\u001b[0m\u001b[0m\n\u001b[0;32m-> 1443\u001b[0;31m                                             run_metadata)\n\u001b[0m\u001b[1;32m   1444\u001b[0m \u001b[0;34m\u001b[0m\u001b[0m\n",
            "\u001b[0;31mFailedPreconditionError\u001b[0m: Attempting to use uninitialized value w1\n\t [[{{node _retval_w1_0_0}}]]",
            "\nDuring handling of the above exception, another exception occurred:\n",
            "\u001b[0;31mFailedPreconditionError\u001b[0m                   Traceback (most recent call last)",
            "\u001b[0;32m<ipython-input-49-122f02d5325c>\u001b[0m in \u001b[0;36m<module>\u001b[0;34m()\u001b[0m\n\u001b[1;32m      2\u001b[0m     \u001b[0msaver\u001b[0m \u001b[0;34m=\u001b[0m \u001b[0mtf\u001b[0m\u001b[0;34m.\u001b[0m\u001b[0mtrain\u001b[0m\u001b[0;34m.\u001b[0m\u001b[0mimport_meta_graph\u001b[0m\u001b[0;34m(\u001b[0m\u001b[0;34m'./drive/My Drive/Bio/model-1.ckpt.meta'\u001b[0m\u001b[0;34m)\u001b[0m\u001b[0;34m\u001b[0m\u001b[0;34m\u001b[0m\u001b[0m\n\u001b[1;32m      3\u001b[0m     \u001b[0msaver\u001b[0m\u001b[0;34m.\u001b[0m\u001b[0mrestore\u001b[0m\u001b[0;34m(\u001b[0m\u001b[0msess\u001b[0m\u001b[0;34m,\u001b[0m\u001b[0mtf\u001b[0m\u001b[0;34m.\u001b[0m\u001b[0mtrain\u001b[0m\u001b[0;34m.\u001b[0m\u001b[0mlatest_checkpoint\u001b[0m\u001b[0;34m(\u001b[0m\u001b[0;34m'./drive/My Drive/Bio'\u001b[0m\u001b[0;34m)\u001b[0m\u001b[0;34m)\u001b[0m\u001b[0;34m\u001b[0m\u001b[0;34m\u001b[0m\u001b[0m\n\u001b[0;32m----> 4\u001b[0;31m     \u001b[0mprint\u001b[0m\u001b[0;34m(\u001b[0m\u001b[0msess\u001b[0m\u001b[0;34m.\u001b[0m\u001b[0mrun\u001b[0m\u001b[0;34m(\u001b[0m\u001b[0;34m'w1:0'\u001b[0m\u001b[0;34m)\u001b[0m\u001b[0;34m)\u001b[0m\u001b[0;34m\u001b[0m\u001b[0;34m\u001b[0m\u001b[0m\n\u001b[0m",
            "\u001b[0;32m/usr/local/lib/python3.6/dist-packages/tensorflow/python/client/session.py\u001b[0m in \u001b[0;36mrun\u001b[0;34m(self, fetches, feed_dict, options, run_metadata)\u001b[0m\n\u001b[1;32m    956\u001b[0m     \u001b[0;32mtry\u001b[0m\u001b[0;34m:\u001b[0m\u001b[0;34m\u001b[0m\u001b[0;34m\u001b[0m\u001b[0m\n\u001b[1;32m    957\u001b[0m       result = self._run(None, fetches, feed_dict, options_ptr,\n\u001b[0;32m--> 958\u001b[0;31m                          run_metadata_ptr)\n\u001b[0m\u001b[1;32m    959\u001b[0m       \u001b[0;32mif\u001b[0m \u001b[0mrun_metadata\u001b[0m\u001b[0;34m:\u001b[0m\u001b[0;34m\u001b[0m\u001b[0;34m\u001b[0m\u001b[0m\n\u001b[1;32m    960\u001b[0m         \u001b[0mproto_data\u001b[0m \u001b[0;34m=\u001b[0m \u001b[0mtf_session\u001b[0m\u001b[0;34m.\u001b[0m\u001b[0mTF_GetBuffer\u001b[0m\u001b[0;34m(\u001b[0m\u001b[0mrun_metadata_ptr\u001b[0m\u001b[0;34m)\u001b[0m\u001b[0;34m\u001b[0m\u001b[0;34m\u001b[0m\u001b[0m\n",
            "\u001b[0;32m/usr/local/lib/python3.6/dist-packages/tensorflow/python/client/session.py\u001b[0m in \u001b[0;36m_run\u001b[0;34m(self, handle, fetches, feed_dict, options, run_metadata)\u001b[0m\n\u001b[1;32m   1179\u001b[0m     \u001b[0;32mif\u001b[0m \u001b[0mfinal_fetches\u001b[0m \u001b[0;32mor\u001b[0m \u001b[0mfinal_targets\u001b[0m \u001b[0;32mor\u001b[0m \u001b[0;34m(\u001b[0m\u001b[0mhandle\u001b[0m \u001b[0;32mand\u001b[0m \u001b[0mfeed_dict_tensor\u001b[0m\u001b[0;34m)\u001b[0m\u001b[0;34m:\u001b[0m\u001b[0;34m\u001b[0m\u001b[0;34m\u001b[0m\u001b[0m\n\u001b[1;32m   1180\u001b[0m       results = self._do_run(handle, final_targets, final_fetches,\n\u001b[0;32m-> 1181\u001b[0;31m                              feed_dict_tensor, options, run_metadata)\n\u001b[0m\u001b[1;32m   1182\u001b[0m     \u001b[0;32melse\u001b[0m\u001b[0;34m:\u001b[0m\u001b[0;34m\u001b[0m\u001b[0;34m\u001b[0m\u001b[0m\n\u001b[1;32m   1183\u001b[0m       \u001b[0mresults\u001b[0m \u001b[0;34m=\u001b[0m \u001b[0;34m[\u001b[0m\u001b[0;34m]\u001b[0m\u001b[0;34m\u001b[0m\u001b[0;34m\u001b[0m\u001b[0m\n",
            "\u001b[0;32m/usr/local/lib/python3.6/dist-packages/tensorflow/python/client/session.py\u001b[0m in \u001b[0;36m_do_run\u001b[0;34m(self, handle, target_list, fetch_list, feed_dict, options, run_metadata)\u001b[0m\n\u001b[1;32m   1357\u001b[0m     \u001b[0;32mif\u001b[0m \u001b[0mhandle\u001b[0m \u001b[0;32mis\u001b[0m \u001b[0;32mNone\u001b[0m\u001b[0;34m:\u001b[0m\u001b[0;34m\u001b[0m\u001b[0;34m\u001b[0m\u001b[0m\n\u001b[1;32m   1358\u001b[0m       return self._do_call(_run_fn, feeds, fetches, targets, options,\n\u001b[0;32m-> 1359\u001b[0;31m                            run_metadata)\n\u001b[0m\u001b[1;32m   1360\u001b[0m     \u001b[0;32melse\u001b[0m\u001b[0;34m:\u001b[0m\u001b[0;34m\u001b[0m\u001b[0;34m\u001b[0m\u001b[0m\n\u001b[1;32m   1361\u001b[0m       \u001b[0;32mreturn\u001b[0m \u001b[0mself\u001b[0m\u001b[0;34m.\u001b[0m\u001b[0m_do_call\u001b[0m\u001b[0;34m(\u001b[0m\u001b[0m_prun_fn\u001b[0m\u001b[0;34m,\u001b[0m \u001b[0mhandle\u001b[0m\u001b[0;34m,\u001b[0m \u001b[0mfeeds\u001b[0m\u001b[0;34m,\u001b[0m \u001b[0mfetches\u001b[0m\u001b[0;34m)\u001b[0m\u001b[0;34m\u001b[0m\u001b[0;34m\u001b[0m\u001b[0m\n",
            "\u001b[0;32m/usr/local/lib/python3.6/dist-packages/tensorflow/python/client/session.py\u001b[0m in \u001b[0;36m_do_call\u001b[0;34m(self, fn, *args)\u001b[0m\n\u001b[1;32m   1382\u001b[0m                     \u001b[0;34m'\\nsession_config.graph_options.rewrite_options.'\u001b[0m\u001b[0;34m\u001b[0m\u001b[0;34m\u001b[0m\u001b[0m\n\u001b[1;32m   1383\u001b[0m                     'disable_meta_optimizer = True')\n\u001b[0;32m-> 1384\u001b[0;31m       \u001b[0;32mraise\u001b[0m \u001b[0mtype\u001b[0m\u001b[0;34m(\u001b[0m\u001b[0me\u001b[0m\u001b[0;34m)\u001b[0m\u001b[0;34m(\u001b[0m\u001b[0mnode_def\u001b[0m\u001b[0;34m,\u001b[0m \u001b[0mop\u001b[0m\u001b[0;34m,\u001b[0m \u001b[0mmessage\u001b[0m\u001b[0;34m)\u001b[0m\u001b[0;34m\u001b[0m\u001b[0;34m\u001b[0m\u001b[0m\n\u001b[0m\u001b[1;32m   1385\u001b[0m \u001b[0;34m\u001b[0m\u001b[0m\n\u001b[1;32m   1386\u001b[0m   \u001b[0;32mdef\u001b[0m \u001b[0m_extend_graph\u001b[0m\u001b[0;34m(\u001b[0m\u001b[0mself\u001b[0m\u001b[0;34m)\u001b[0m\u001b[0;34m:\u001b[0m\u001b[0;34m\u001b[0m\u001b[0;34m\u001b[0m\u001b[0m\n",
            "\u001b[0;31mFailedPreconditionError\u001b[0m: Attempting to use uninitialized value w1\n\t [[{{node _retval_w1_0_0}}]]"
          ]
        }
      ]
    },
    {
      "cell_type": "code",
      "metadata": {
        "scrolled": false,
        "id": "piccGRyMT1jD",
        "colab_type": "code",
        "outputId": "d9d21cfd-1eca-41aa-b69c-feeafb9734b3",
        "colab": {
          "base_uri": "https://localhost:8080/",
          "height": 271
        }
      },
      "source": [
        "model.summary()\n",
        "print(model)"
      ],
      "execution_count": 0,
      "outputs": [
        {
          "output_type": "stream",
          "text": [
            "Model: \"sequential_2\"\n",
            "_________________________________________________________________\n",
            "Layer (type)                 Output Shape              Param #   \n",
            "=================================================================\n",
            "dense_6 (Dense)              multiple                  20        \n",
            "_________________________________________________________________\n",
            "dense_7 (Dense)              multiple                  25        \n",
            "_________________________________________________________________\n",
            "dense_8 (Dense)              multiple                  18        \n",
            "=================================================================\n",
            "Total params: 63\n",
            "Trainable params: 63\n",
            "Non-trainable params: 0\n",
            "_________________________________________________________________\n",
            "<tensorflow.python.keras.engine.sequential.Sequential object at 0x7fc4a62a6550>\n"
          ],
          "name": "stdout"
        }
      ]
    },
    {
      "cell_type": "code",
      "metadata": {
        "id": "VwQdE1_g8RWg",
        "colab_type": "code",
        "colab": {}
      },
      "source": [
        "vla_loss = []\n",
        "val_loss = history_model.history['val_loss']\n"
      ],
      "execution_count": 0,
      "outputs": []
    },
    {
      "cell_type": "code",
      "metadata": {
        "id": "utEcCDTCT1jF",
        "colab_type": "code",
        "colab": {}
      },
      "source": [
        "model_setoa = []\n",
        "model_setoa = model.predict(val_inputs[5:10])"
      ],
      "execution_count": 0,
      "outputs": []
    },
    {
      "cell_type": "code",
      "metadata": {
        "id": "SC2jnw9vsNF5",
        "colab_type": "code",
        "colab": {}
      },
      "source": [
        "model.predict(train_inputs)"
      ],
      "execution_count": 0,
      "outputs": []
    },
    {
      "cell_type": "code",
      "metadata": {
        "id": "o6RVcnZYASUQ",
        "colab_type": "code",
        "outputId": "00602090-5752-4e49-dddc-48e609425a23",
        "colab": {
          "base_uri": "https://localhost:8080/",
          "height": 34
        }
      },
      "source": [
        "print(train_out[5:10])"
      ],
      "execution_count": 0,
      "outputs": [
        {
          "output_type": "stream",
          "text": [
            "[[1.0, 0.0, 0.0], [1.0, 0.0, 0.0], [0.0, 1.0, 0.0], [0.0, 1.0, 0.0], [0.0, 1.0, 0.0]]\n"
          ],
          "name": "stdout"
        }
      ]
    },
    {
      "cell_type": "code",
      "metadata": {
        "id": "Mwlx7WypT1jI",
        "colab_type": "code",
        "outputId": "9c918a6d-a18b-41ee-eaf9-f472a7638ff8",
        "colab": {
          "base_uri": "https://localhost:8080/",
          "height": 102
        }
      },
      "source": [
        "print(val_outputs[10:15])"
      ],
      "execution_count": 0,
      "outputs": [
        {
          "output_type": "stream",
          "text": [
            "[[1. 0. 0.]\n",
            " [1. 0. 0.]\n",
            " [1. 0. 0.]\n",
            " [1. 0. 0.]\n",
            " [1. 0. 0.]]\n"
          ],
          "name": "stdout"
        }
      ]
    },
    {
      "cell_type": "code",
      "metadata": {
        "id": "b0IP02_1T1jK",
        "colab_type": "code",
        "colab": {}
      },
      "source": [
        ""
      ],
      "execution_count": 0,
      "outputs": []
    }
  ]
}